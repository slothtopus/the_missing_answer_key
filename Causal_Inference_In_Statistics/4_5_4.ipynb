{
 "cells": [
  {
   "cell_type": "markdown",
   "id": "global-insurance",
   "metadata": {},
   "source": [
    "# Study Question 4.5.4\n",
    "\n",
    "The question doesn't match the content of section 4.4.4, which it references, but ploughing ahead anyway...\n",
    "\n",
    "The proportion of hiring disparity that is due to gender is the Natural Direct Effect.\n",
    "\n",
    "The proportion that is due to disparity in qualification alone is the Natural Indirect Effect.\n",
    "\n",
    "We can express both of these as proportions of the Total Effect, which conveniently have already been calculated in the book:\n",
    "\n",
    "$$\\begin{align}\n",
    "\\frac{\\textit{NDE}}{\\textit{TE}} &= 0.696\\\\\n",
    "\\\\\n",
    "\\frac{\\textit{NIE}}{\\textit{TE}} &= 0.07\n",
    "\\end{align}$$\n",
    "\n",
    "The direct effect of gender for a significant portion of the Total Effect, whereas the portion attributable to disparity in qualifications is much smaller. Therefore, we can conclude that it is likely that discrimination took place."
   ]
  },
  {
   "cell_type": "code",
   "execution_count": null,
   "id": "guilty-justice",
   "metadata": {},
   "outputs": [],
   "source": []
  }
 ],
 "metadata": {
  "kernelspec": {
   "display_name": "Python 3",
   "language": "python",
   "name": "python3"
  },
  "language_info": {
   "codemirror_mode": {
    "name": "ipython",
    "version": 3
   },
   "file_extension": ".py",
   "mimetype": "text/x-python",
   "name": "python",
   "nbconvert_exporter": "python",
   "pygments_lexer": "ipython3",
   "version": "3.8.5"
  }
 },
 "nbformat": 4,
 "nbformat_minor": 5
}
