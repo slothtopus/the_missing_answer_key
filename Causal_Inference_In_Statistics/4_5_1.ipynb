{
 "cells": [
  {
   "cell_type": "markdown",
   "id": "confirmed-happening",
   "metadata": {},
   "source": [
    "# Study Question 4.5.1\n",
    "\n",
    "Let $Y=1$ be remission (no recurrence), $Y=0$ be no remission (recurrence), $X=1$ be radiation and $X=0$ be no radiation.\n",
    "\n",
    "From the experimental study, we have:\n",
    "\n",
    "$$P(Y=1\\mid \\textit{do}(X=1)) = 0.86$$\n",
    "$$P(Y=0\\mid \\textit{do}(X=1)) = 0.14$$\n",
    "$$P(Y=1\\mid \\textit{do}(X=0)) = 0.61$$\n",
    "$$P(Y=0\\mid \\textit{do}(X=0)) = 0.39$$\n",
    "\n",
    "The question states that the probability of recurrence in all patients, regardless of therapy, is 30%. This implies that $X$ and $Y$ are independent.\n",
    "\n",
    "$$\\begin{align}\n",
    "&P(Y=0) = P(Y=0\\mid X=0) = P(Y=0\\mid X=1) = 0.3\\\\\n",
    "\\implies &P(Y=1) = P(Y=1\\mid X=0) = P(Y=1\\mid X=1) = 0.7\n",
    "\\end{align}$$\n",
    "\n",
    "Among recurrent cases, 70% do not choose therapy\n",
    "\n",
    "$$P(X=0 \\mid Y=0) = 0.7$$\n",
    "\n",
    "Since $X$ and $Y$ are independent, we also have:\n",
    "\n",
    "$$\\begin{align}\n",
    "&P(X=0) = P(X=0 \\mid Y=0) = P(X=0 \\mid Y=1) = 0.7\\\\\n",
    "\\implies &P(X=1) = P(X=1 \\mid Y=0) = P(X=1 \\mid Y=1) = 0.3\n",
    "\\end{align}$$\n",
    "\n",
    "This gives us\n",
    "\n",
    "$$P(X=1,Y=1) = P(X=1)P(Y=1) = 0.3\\cdot0.7 = 0.21$$\n",
    "$$P(X=0,Y=0) = P(X=0)P(Y=0) = 0.7\\cdot0.3 = 0.21$$\n",
    "\n",
    "Putting it all together, our lower bound for $\\textit{PN}$ is:\n",
    "\n",
    "$$\\begin{align}\n",
    "\\textit{max}\\{0, \\frac{P(Y=1) - P(Y=1\\mid \\textit{do}(X=0))}{P(X=1,Y=1)}\\} = \\frac{0.7 - 0.61}{0.21} = 0.43\n",
    "\\end{align}$$\n",
    "\n",
    "And the upper bound is\n",
    "$$\\begin{align}\n",
    "\\textit{min}\\{1, \\frac{P(Y=0\\mid\\textit{do}(X=0)) - P(X=0,Y=0)}{P(X=1,Y=1)}\\} = \\frac{0.39 - 0.21}{0.21} = 0.86\n",
    "\\end{align}$$\n"
   ]
  },
  {
   "cell_type": "code",
   "execution_count": null,
   "id": "biblical-broadcasting",
   "metadata": {},
   "outputs": [],
   "source": []
  }
 ],
 "metadata": {
  "kernelspec": {
   "display_name": "Python 3",
   "language": "python",
   "name": "python3"
  },
  "language_info": {
   "codemirror_mode": {
    "name": "ipython",
    "version": 3
   },
   "file_extension": ".py",
   "mimetype": "text/x-python",
   "name": "python",
   "nbconvert_exporter": "python",
   "pygments_lexer": "ipython3",
   "version": "3.8.5"
  }
 },
 "nbformat": 4,
 "nbformat_minor": 5
}
