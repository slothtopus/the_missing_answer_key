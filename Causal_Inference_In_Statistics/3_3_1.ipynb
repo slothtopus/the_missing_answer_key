{
 "cells": [
  {
   "cell_type": "markdown",
   "id": "presidential-spectacular",
   "metadata": {},
   "source": [
    "# Study Question 3.3.1\n",
    "\n",
    "a) Sets that satisfy the backdoor criterion are all sets containing $Z$ and at least one member of the set $\\{A,B,C,D\\}$"
   ]
  },
  {
   "cell_type": "code",
   "execution_count": 17,
   "id": "operating-rouge",
   "metadata": {},
   "outputs": [
    {
     "data": {
      "text/plain": [
       "[('A', 'Z'),\n",
       " ('B', 'Z'),\n",
       " ('C', 'Z'),\n",
       " ('D', 'Z'),\n",
       " ('A', 'B', 'Z'),\n",
       " ('A', 'C', 'Z'),\n",
       " ('A', 'D', 'Z'),\n",
       " ('B', 'C', 'Z'),\n",
       " ('B', 'D', 'Z'),\n",
       " ('C', 'D', 'Z'),\n",
       " ('A', 'B', 'C', 'Z'),\n",
       " ('A', 'B', 'D', 'Z'),\n",
       " ('A', 'C', 'D', 'Z'),\n",
       " ('B', 'C', 'D', 'Z'),\n",
       " ('A', 'B', 'C', 'D', 'Z')]"
      ]
     },
     "execution_count": 17,
     "metadata": {},
     "output_type": "execute_result"
    }
   ],
   "source": [
    "from itertools import chain, combinations\n",
    "\n",
    "vals = ['A', 'B', 'C', 'D']\n",
    "sets = list(chain.from_iterable(combinations(s, r + 1) for r in range(len(s)))) \n",
    "[s + ('Z',) for s in sets]"
   ]
  },
  {
   "cell_type": "markdown",
   "id": "ongoing-mistress",
   "metadata": {},
   "source": [
    "b) Minimal sets are $\\{A,Z\\}, \\{B,Z\\}, \\{C,Z\\}, \\{D,Z\\}$\n",
    "\n",
    "c) Minimal sets for $D \\rightarrow Y$ are $\\{C\\}, \\{Z,B\\}, \\{Z,A\\}, \\{Z,X\\}, \\{Z,W\\}$\n",
    "\n",
    "Minimal sets for $\\{W,D\\} \\rightarrow Y$ are $\\{Z,X\\}, \\{Z,A\\}, \\{Z,B\\}, \\{Z,C\\}$"
   ]
  },
  {
   "cell_type": "code",
   "execution_count": null,
   "id": "broad-laser",
   "metadata": {},
   "outputs": [],
   "source": []
  }
 ],
 "metadata": {
  "kernelspec": {
   "display_name": "Python 3",
   "language": "python",
   "name": "python3"
  },
  "language_info": {
   "codemirror_mode": {
    "name": "ipython",
    "version": 3
   },
   "file_extension": ".py",
   "mimetype": "text/x-python",
   "name": "python",
   "nbconvert_exporter": "python",
   "pygments_lexer": "ipython3",
   "version": "3.8.5"
  }
 },
 "nbformat": 4,
 "nbformat_minor": 5
}
