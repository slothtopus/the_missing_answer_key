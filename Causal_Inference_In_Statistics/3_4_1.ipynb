{
 "cells": [
  {
   "cell_type": "markdown",
   "id": "virtual-elevation",
   "metadata": {},
   "source": [
    "# Study Question 3.4.1\n",
    "\n",
    "Minimal sets needed to estimate the effect of $X$ on $Y$ using the backdoor criterion are $\\{A,Z\\}, \\{B,Z\\}, \\{C,Z\\}, \\{D,Z\\}$ (from question 3.3.1). Therefore, if we're only allowed to measure one additional variable, the backdoor criterion alone will not work for us.\n",
    "\n",
    "However, using the frontdoor adjustment, we just need $W$. The effect of $X$ on $Y$ can be estimated with\n",
    "\n",
    "$$P(Y = y \\mid \\textit{do}(X = x)) = \\sum_{w}P(W = w \\mid X = x)\\sum_{x'}P(Y = y \\mid X = x', W = w)P(X = x')$$"
   ]
  },
  {
   "cell_type": "code",
   "execution_count": null,
   "id": "cooked-specification",
   "metadata": {},
   "outputs": [],
   "source": []
  }
 ],
 "metadata": {
  "kernelspec": {
   "display_name": "Python 3",
   "language": "python",
   "name": "python3"
  },
  "language_info": {
   "codemirror_mode": {
    "name": "ipython",
    "version": 3
   },
   "file_extension": ".py",
   "mimetype": "text/x-python",
   "name": "python",
   "nbconvert_exporter": "python",
   "pygments_lexer": "ipython3",
   "version": "3.8.5"
  }
 },
 "nbformat": 4,
 "nbformat_minor": 5
}
