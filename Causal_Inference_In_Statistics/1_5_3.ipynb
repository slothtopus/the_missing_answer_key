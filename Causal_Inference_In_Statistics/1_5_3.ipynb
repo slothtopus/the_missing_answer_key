{
 "cells": [
  {
   "cell_type": "markdown",
   "id": "little-problem",
   "metadata": {},
   "source": [
    "# Study question 1.5.3\n",
    "\n",
    "Given the graph\n",
    "\n",
    "$$\n",
    "X_{1} \\rightarrow X_{2} \\rightarrow X_{3} \\rightarrow X_{4}\n",
    "$$\n",
    "\n",
    "The joint probability distribution can be decomposed as\n",
    "\n",
    "$$\n",
    "P(X_{1}, X_{2}, X_{3}, X_{4}) = P(X_{1}) P(X_{2} | X_{1}) P(X_{3} | X_{2}) P(X_{4} | X_{3})\n",
    "$$\n",
    "\n",
    "The question gives us the following probabilities\n",
    "\n",
    "$$\n",
    "P(X_{i} = 1 \\mid X_{i-1} = 1) = p\\\\\n",
    "P(X_{i} = 1 \\mid X_{i-1} = 0) = q\\\\\n",
    "P(X_{i} = 1) = p_{0}\n",
    "$$\n",
    "\n",
    "We can use all of this to set up a little simulation to check our answers as we're going along."
   ]
  },
  {
   "cell_type": "code",
   "execution_count": 7,
   "id": "stopped-gravity",
   "metadata": {},
   "outputs": [],
   "source": [
    "import numpy as np\n",
    "\n",
    "def simulate_graph(p, q, p0, n):\n",
    "    X1 = (np.random.uniform(size = n) < p0) * 1\n",
    "\n",
    "    X2 = np.zeros_like(X1)\n",
    "    X2[X1 == 1] = (np.random.uniform(size = np.sum(X1 == 1)) < p) * 1\n",
    "    X2[X1 == 0] = (np.random.uniform(size = np.sum(X1 == 0)) < q) * 1\n",
    "\n",
    "    X3 = np.zeros_like(X2)\n",
    "    X3[X2 == 1] = (np.random.uniform(size = np.sum(X2 == 1)) < p) * 1\n",
    "    X3[X2 == 0] = (np.random.uniform(size = np.sum(X2 == 0)) < q) * 1\n",
    "\n",
    "    X4 = np.zeros_like(X3)\n",
    "    X4[X3 == 1] = (np.random.uniform(size = np.sum(X3 == 1)) < p) * 1\n",
    "    X4[X3 == 0] = (np.random.uniform(size = np.sum(X3 == 0)) < q) * 1\n",
    "\n",
    "    return (X1, X2, X3, X4)"
   ]
  },
  {
   "cell_type": "markdown",
   "id": "irish-connectivity",
   "metadata": {},
   "source": [
    "1) Compute $P(X_{1} = 1, X_{2} = 0, X_{3} = 1, X_{4} = 0)$\n",
    "\n",
    "Using the joint probability distribution together with the probabilities provided directly\n",
    "\n",
    "$$\n",
    "P(X_{1} = 1, X_{2} = 0, X_{3} = 1, X_{4} = 0) = p_0 (1-p) q (1-p)\n",
    "$$"
   ]
  },
  {
   "cell_type": "code",
   "execution_count": 18,
   "id": "incredible-neighborhood",
   "metadata": {},
   "outputs": [
    {
     "name": "stdout",
     "output_type": "stream",
     "text": [
      "0.00683 0.006841120000000001\n"
     ]
    }
   ],
   "source": [
    "# Pick some random values to check our answer\n",
    "p = 0.74\n",
    "q = 0.23\n",
    "p0 = 0.44\n",
    "n = 1000000\n",
    "\n",
    "X1, X2, X3, X4 = simulate_graph(p, q, p0, n)\n",
    "\n",
    "mask = np.logical_and(X1 == 1, X2 == 0)\n",
    "mask = np.logical_and(mask, X3 == 1)\n",
    "mask = np.logical_and(mask, X4 == 0)\n",
    "simulated_prob = np.sum(mask) / n\n",
    "\n",
    "calculated_prob = p0*(1-p)*q*(1-p)\n",
    "\n",
    "print(simulated_prob, calculated_prob)"
   ]
  },
  {
   "cell_type": "markdown",
   "id": "interracial-improvement",
   "metadata": {},
   "source": [
    "2) Compute $P(X_{4} = 1 \\mid X_1 = 1)$\n",
    "\n",
    "We can do this in stages\n",
    "\n",
    "$$\n",
    "p(X_{2} = 1 \\mid X_{1} = 1) = p\\\\\n",
    "$$\n",
    "\n",
    "$$\n",
    "\\begin{align}\n",
    "P(X_{3} = 1 \\mid X_{1} = 1) =\\ &P(X_{3} = 1 \\mid X_{2} = 1)P(X_{2} = 1 \\mid X_{1} = 1)\\ +\\\\\n",
    "&P(X_{3} = 1 \\mid X_{2} = 0)P(X_{2} = 0 \\mid X_{1} = 1)\\\\\n",
    "=\\ &p^{2} + q(1-p)\n",
    "\\end{align}\n",
    "$$\n",
    "\n",
    "$$\n",
    "\\begin{align}\n",
    "P(X_{4} = 1 \\mid X_{1} = 1) =\\ &P(X_{4} = 1 \\mid X_{3} = 1)P(X_{3} = 1 \\mid X_{1} = 1)\\ +\\\\\n",
    "&P(X_{4} = 1 \\mid X_{3} = 0)P(X_{3} = 0 \\mid X_{1} = 1)\\\\\n",
    "=\\ &p(p^{2} + q(1-p)) + q(1 - p^{2} + q(1-p))\\\\\n",
    "=\\ &p^{3} - qp^{2} - (1-p)q^{2} + (1-p)qp + q\n",
    "\\end{align}\n",
    "$$"
   ]
  },
  {
   "cell_type": "code",
   "execution_count": 20,
   "id": "stone-spank",
   "metadata": {},
   "outputs": [
    {
     "name": "stdout",
     "output_type": "stream",
     "text": [
      "0.4092441562446605 0.409696\n"
     ]
    }
   ],
   "source": [
    "# Pick some random values to check our answer\n",
    "p = 0.34\n",
    "q = 0.46\n",
    "p0 = 0.24\n",
    "n = 1000000\n",
    "\n",
    "X1, X2, X3, X4 = simulate_graph(p, q, p0, n)\n",
    "\n",
    "simulated_prob = np.mean(X4[X1 == 1])\n",
    "calculated_prob = p**3 - q*p**2 - (1-p)*q**2 + (1-p)*q*p + q\n",
    "\n",
    "print(simulated_prob, calculated_prob)"
   ]
  },
  {
   "cell_type": "markdown",
   "id": "seasonal-bones",
   "metadata": {},
   "source": [
    "3) Compute $P(X_{1} = 1 \\mid X_4 = 1)$\n",
    "\n",
    "This is our result from the last question swapped around. Bayes theorem can help us out with this.\n",
    "\n",
    "$$\n",
    "P(X_{1} = 1 \\mid X_4 = 1) = \\frac{\n",
    "P(X_{4} = 1 \\mid X_1 = 1)P(X_{1} = 1)\n",
    "}{\n",
    "P(X_{4} = 1)\n",
    "}\n",
    "$$\n",
    "\n",
    "The missing piece for this is $P(X_{4} = 1)$, which we can calculate in stages again\n",
    "\n",
    "$$\n",
    "P(X_{2} = 1) = pp_{0} + q(1-p_{0})\\\\\n",
    "$$\n",
    "\n",
    "$$\n",
    "\\begin{align}\n",
    "P(X_{3} = 1) &= pP(X_{2} = 1) + qP(X_{2} = 0)\\\\\n",
    "&= p(pp_{0} + q(1-p_{0})) + q(1 - pp_{0} + q(1-p_{0}))\\\\\n",
    "&= p_{0}p^{2} + (p_{0}-1)*q^{2} + (1-2p_{0})pq + q\n",
    "\\end{align}\n",
    "$$\n",
    "\n",
    "$$\n",
    "\\begin{align}\n",
    "P(X_{4} = 1) &= pP(X_{3} = 1) + qP(X_{3} = 0)\\\\\n",
    "&= p(p_{0}p^{2} + (p_{0}-1)*q^{2} + (1-2p_{0})pq + q) + q(1 - p_{0}p^{2} + (p_{0}-1)*q^{2} + (1-2p_{0})pq + q)\\\\\n",
    "&= p_{0}p^{3} - (p_{0}-1)q^{3} + (1-3p_{0})p^{2}q + (3p_{0}-2)pq^{2} - q^{2} + pq + q\n",
    "\\end{align}\n",
    "$$\n",
    "\n",
    "Therefore...\n",
    "\n",
    "$$\n",
    "P(X_{1} = 1 \\mid X_4 = 1) = \\frac{\n",
    "(p^{3} - qp^{2} - (1-p)q^{2} + (1-p)qp + q)p_{0}\n",
    "}{\n",
    "p_{0}p^{3} - (p_{0}-1)q^{3} + (1-3p_{0})p^{2}q + (3p_{0}-2)pq^{2} - q^{2} + pq + q\n",
    "}\n",
    "$$\n",
    "\n",
    "Yeesh!\n",
    "\n"
   ]
  },
  {
   "cell_type": "code",
   "execution_count": 24,
   "id": "amber-warren",
   "metadata": {},
   "outputs": [
    {
     "name": "stdout",
     "output_type": "stream",
     "text": [
      "0.746304625401171 0.7460181978448007\n"
     ]
    }
   ],
   "source": [
    "# Pick some random values to check our answer\n",
    "p = 0.12\n",
    "q = 0.53\n",
    "p0 = 0.78\n",
    "n = 1000000\n",
    "\n",
    "X1, X2, X3, X4 = simulate_graph(p, q, p0, n)\n",
    "\n",
    "simulated_prob = np.mean(X1[X4 == 1])\n",
    "numerator = (p**3 - q*p**2 - (1-p)*q**2 + (1-p)*q*p + q) * p0\n",
    "denominator = p0*p**3 - (p0-1)*q**3 + (1-3*p0)*q*p**2 + (3*p0 - 2)*p*q**2 - q**2 + p*q + q\n",
    "calculated_prob = numerator / denominator\n",
    "\n",
    "print(simulated_prob, calculated_prob)"
   ]
  },
  {
   "cell_type": "markdown",
   "id": "facial-orlando",
   "metadata": {},
   "source": [
    "4) Compute $P(X_{3} = 1 \\mid X_{1} = 0, X_{4} = 1)$\n",
    "\n",
    "Again the conditional version of Bayes theorem is our friend for this one\n",
    "\n",
    "$$\n",
    "P(X_{3} = 1 \\mid X_{1} = 0, X_{4} = 1) = \\frac{\n",
    "P(X_{4} = 1 \\mid X_{3} = 1, X_{1} = 0)P(X_{3} = 1 \\mid X_{1} = 0)\n",
    "}{\n",
    "P(X_{4} = 1 \\mid X_{1} = 0)\n",
    "}\n",
    "$$\n",
    "\n",
    "Since $X_{4}$ is dependent only on the value of $X_{3}$, we have\n",
    "\n",
    "$$\n",
    "P(X_{4} = 1 \\mid X_{3} = 1, X_{1} = 0) = p\n",
    "$$\n",
    "\n",
    "That leaves a couple of other missing pieces to calculate\n",
    "\n",
    "$$\n",
    "\\begin{align}\n",
    "P(X_{3} = 1 | X_{1} = 0) =\\ &P(X_{3} = 1 | X_{2} = 1)P(X_{2} = 1 | X_{1} = 0)\\ +\\\\\n",
    "&P(X_{3} = 1 | X_{2} = 0)P(X_{2} = 0 | X_{1} = 0)\\\\\n",
    "=\\ &pq + q(1-q)\\\\\n",
    "=\\ &pq + q - q^{2}\n",
    "\\end{align}\n",
    "$$\n",
    "\n",
    "$$\n",
    "\\begin{align}\n",
    "P(X_{4} = 1 | X_{1} = 0) =\\ &P(X_{4} = 1 | X_{3} = 1)P(X_{3} = 1 | X_{1} = 0)\\ +\\\\\n",
    "&P(X_{4} = 1 | X_{3} = 0)P(X_{3} = 0 | X_{1} = 0)\\\\\n",
    "=\\ &p(pq + q - q^{2}) + q(1-pq + q - q^{2})\\\\\n",
    "=\\ &q^{3} + p^{2}q - 2pq^{2} - q^{2} + pq + q\n",
    "\\end{align}\n",
    "$$\n",
    "\n",
    "Putting it all together...\n",
    "$$\n",
    "\\begin{align}\n",
    "P(X_{3} = 1 \\mid X_{1} = 0, X_{4} = 1) &=\n",
    "\\frac{p(pq + q - q^{2})}{\n",
    "q^{3} + p^{2}q - 2pq^{2} - q^{2} + pq + q\n",
    "}\\\\\n",
    "&=\\frac{\n",
    "p^2 + p - pq\n",
    "}{\n",
    "q^{2} + p^{2} - 2pq - q + p + 1\n",
    "}\\\\\n",
    "\\end{align}\n",
    "$$"
   ]
  },
  {
   "cell_type": "code",
   "execution_count": null,
   "id": "waiting-russell",
   "metadata": {},
   "outputs": [],
   "source": [
    "# Pick some random values to check our answer\n",
    "p = 0.82\n",
    "q = 0.23\n",
    "p0 = 0.54\n",
    "n = 10000000\n",
    "\n",
    "X1, X2, X3, X4 = simulate_graph(p, q, p0, n)\n",
    "\n",
    "simulated_prob = np.mean(X3[np.logical_and(X1 == 0, X4 == 1)])\n",
    "numerator = p**2 + p - p*q\n",
    "denominator = q**2 + p**2 - 2*p*q - q + p + 1\n",
    "calculated_prob = numerator / denominator\n",
    "\n",
    "print(simulated_prob, calculated_prob)"
   ]
  },
  {
   "cell_type": "code",
   "execution_count": null,
   "id": "psychological-photography",
   "metadata": {},
   "outputs": [],
   "source": []
  }
 ],
 "metadata": {
  "kernelspec": {
   "display_name": "Python 3",
   "language": "python",
   "name": "python3"
  },
  "language_info": {
   "codemirror_mode": {
    "name": "ipython",
    "version": 3
   },
   "file_extension": ".py",
   "mimetype": "text/x-python",
   "name": "python",
   "nbconvert_exporter": "python",
   "pygments_lexer": "ipython3",
   "version": "3.8.5"
  }
 },
 "nbformat": 4,
 "nbformat_minor": 5
}
