{
 "cells": [
  {
   "cell_type": "markdown",
   "id": "premium-opportunity",
   "metadata": {},
   "source": [
    "# Study question 2.4.1\n",
    "\n",
    "a)\n",
    "\n",
    "|Pair|Condition on|\n",
    "|:-:|:-:|\n",
    "$$(W,Z_{1})$$|$$ X $$\n",
    "$$(W,Z_{2})$$|$$ X $$\n",
    "$$(W,Z_{3})$$|$$ X $$\n",
    "$$(X,Y)$$|$$ W, Z_{1}, Z_{3} $$\n",
    "$$(X,Z_{2})$$|$$ Z_{1}, Z_{3} $$\n",
    "$$(Y,Z_{1})$$|$$ W, Z_{2}, Z_{3} $$\n",
    "$$(Z_{1},Z_{2})$$|$$ \\emptyset $$\n",
    "\n",
    "All variables are dependent except for $Z_{1}$ and $Z_{2}$.\n",
    "\n",
    "b)\n",
    "\n",
    "|Pair|Condition on|\n",
    "|:-:|:-:|\n",
    "$$(W,Z_{1})$$|$$ X $$\n",
    "$$(W,Z_{2})$$|$$ X $$\n",
    "$$(W,Z_{3})$$|$$ X $$\n",
    "$$(X,Y)$$|$$ W, Z_{1}, Z_{3} $$\n",
    "$$(X,Z_{2})$$|$$ Z_{1}, Z_{3} $$\n",
    "$$(Y,Z_{1})$$|$$ \\text{not possible without } Z_{2} $$\n",
    "$$(Z_{1},Z_{2})$$|$$ \\emptyset $$\n",
    "\n",
    "c)\n",
    "\n",
    "|Pair|Condition on|Independent?|\n",
    "|:-:|:-:|:-:|\n",
    "$$(W,Z_{1})$$|$$ X,Y,Z_{2},Z_{3} $$|no\n",
    "$$(W,Z_{2})$$|$$ X,Y,Z_{1},Z_{3} $$|no\n",
    "$$(W,Z_{3})$$|$$ X,Y,Z_{1},Z_{2} $$|no\n",
    "$$(X,Y)$$|$$ W,Z_{1},Z_{2},Z_{3} $$|yes\n",
    "$$(X,Z_{2})$$|$$ W,Y,Z_{1},Z_{3} $$|yes\n",
    "$$(Y,Z_{1})$$|$$ X,W,Z_{2},Z_{3} $$|yes\n",
    "$$(Z_{1},Z_{2})$$|$$ X,W,Y,Z_{3} $$|no\n",
    "\n",
    "d)\n",
    "\n",
    "|Node|Condition on|\n",
    "|:-:|:-:|\n",
    "$$X$$|$$ W,Z_{1},Z_{3} $$\n",
    "$$W$$|$$ X,Y,Z_{2},Z_{3} $$\n",
    "$$Y$$|$$ W,Z_{2},Z_{3}, $$\n",
    "$$Z_{1}$$|$$ X,Z_{2},Z_{3} $$\n",
    "$$Z_{2}$$|$$ Y,W,Z_{1},Z_{3} $$\n",
    "$$Z_{3}$$|$$ X,Y,Z_{1},Z_{2},W $$\n",
    "\n",
    "e) We only to need to consider the parents of $Y$ in order to estimate it. These are: $W, Z_{2}, Z_{3}$.\n",
    "\n",
    "f) We can estimate $Z_{2}$ from its direct descendants: $Z_{3}, Y$\n",
    "\n",
    "g) No, the quality of the prediction would not improve because $W$ is only related to $Z_{2}$ as a descendant of $Z_{3}$. Therefore, it cannot provide any more information about $Z_{2}$ than $Z_{3}$ already does."
   ]
  }
 ],
 "metadata": {
  "kernelspec": {
   "display_name": "Python 3",
   "language": "python",
   "name": "python3"
  },
  "language_info": {
   "codemirror_mode": {
    "name": "ipython",
    "version": 3
   },
   "file_extension": ".py",
   "mimetype": "text/x-python",
   "name": "python",
   "nbconvert_exporter": "python",
   "pygments_lexer": "ipython3",
   "version": "3.8.5"
  }
 },
 "nbformat": 4,
 "nbformat_minor": 5
}
