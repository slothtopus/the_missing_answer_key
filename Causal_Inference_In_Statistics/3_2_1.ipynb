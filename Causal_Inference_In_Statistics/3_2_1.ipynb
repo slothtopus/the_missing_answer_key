{
 "cells": [
  {
   "cell_type": "markdown",
   "id": "aggregate-butter",
   "metadata": {},
   "source": [
    "# Study Question 3.2.1\n",
    "\n",
    "a) We have the causal graph below and we know the following probabilities\n",
    "\n",
    "$$P(Z = z_{1}) = r$$\n",
    "$$P(Y = y_{1} \\mid Z = z_{0}, X = x_{0}) = p_{1}$$\n",
    "$$P(Y = y_{1} \\mid Z = z_{0}, X = x_{1}) = p_{2}$$\n",
    "$$P(Y = y_{1} \\mid Z = z_{1}, X = x_{0}) = p_{3}$$\n",
    "$$P(Y = y_{1} \\mid Z = z_{1}, X = x_{1}) = p_{4}$$\n",
    "$$P(X = x_{1} \\mid Z = z_{0}) = q_{1}$$\n",
    "$$P(X = x_{1} \\mid Z = z_{1}) = q_{2}$$"
   ]
  },
  {
   "cell_type": "code",
   "execution_count": 2,
   "id": "negative-saint",
   "metadata": {},
   "outputs": [
    {
     "data": {
      "image/png": "[encoded data removed]",
      "text/plain": [
       "<Figure size 432x288 with 1 Axes>"
      ]
     },
     "metadata": {},
     "output_type": "display_data"
    }
   ],
   "source": [
    "import networkx as nx\n",
    "\n",
    "G = nx.DiGraph()\n",
    "G.add_nodes_from(['Z', 'X', 'Y'])\n",
    "G.add_edges_from([['Z', 'X'], ['Z', 'Y'], ['X', 'Y']])\n",
    "nx.draw(G, with_labels=True)"
   ]
  },
  {
   "cell_type": "markdown",
   "id": "sophisticated-pharmaceutical",
   "metadata": {},
   "source": [
    "To simulate the intervention we remove all arrows entering X, which means we can ignore these:\n",
    "\n",
    "$$P(X = x_{1} \\mid Z = z_{0}) = q_{1}$$\n",
    "$$P(X = x_{1} \\mid Z = z_{1}) = q_{2}$$"
   ]
  },
  {
   "cell_type": "code",
   "execution_count": 3,
   "id": "adult-criminal",
   "metadata": {},
   "outputs": [
    {
     "data": {
      "image/png": "[encoded data removed]",
      "text/plain": [
       "<Figure size 432x288 with 1 Axes>"
      ]
     },
     "metadata": {},
     "output_type": "display_data"
    }
   ],
   "source": [
    "G.remove_edges_from(list(G.in_edges('X')))\n",
    "nx.draw(G, with_labels=True)"
   ]
  },
  {
   "cell_type": "code",
   "execution_count": 4,
   "id": "finnish-length",
   "metadata": {},
   "outputs": [
    {
     "name": "stdout",
     "output_type": "stream",
     "text": [
      "P(Y = 1|do(X = 1)) = 0.698302\n",
      "P(Y = 0|do(X = 1)) = 0.301698\n",
      "P(Y = 1|do(X = 0)) = 0.443423\n",
      "P(Y = 0|do(X = 0)) = 0.556577\n"
     ]
    }
   ],
   "source": [
    "import numpy as np\n",
    "\n",
    "n = 1000000\n",
    "\n",
    "# Pick some random values for our parameters\n",
    "r = 0.23\n",
    "p1 = 0.54\n",
    "p2 = 0.76\n",
    "p3 = 0.12\n",
    "p4 = 0.49\n",
    "q1 = 0.19\n",
    "q2 = 0.48\n",
    "\n",
    "def simulate(X = None):\n",
    "    Z = (np.random.uniform(size = n) < r) * 1\n",
    "    \n",
    "    if X is None:\n",
    "        X = np.zeros_like(Z)\n",
    "        X[Z == 1] = (np.random.uniform(size = np.sum(Z == 1)) < q2) * 1\n",
    "        X[Z == 0] = (np.random.uniform(size = np.sum(Z == 0)) < q1) * 1\n",
    "    \n",
    "    Y = np.zeros_like(X)\n",
    "\n",
    "    #P(Y = y1 | Z = z0, X = x0) = p1\n",
    "    mask = np.logical_and(Z == 0, X == 0)\n",
    "    Y[mask] = (np.random.uniform(size = np.sum(mask)) < p1) * 1\n",
    "\n",
    "    #P(Y = y1 | Z = z0, X = x1) = p2\n",
    "    mask = np.logical_and(Z == 0, X == 1)\n",
    "    Y[mask] = (np.random.uniform(size = np.sum(mask)) < p2) * 1\n",
    "\n",
    "    #P(Y = y1 | Z = z1, X = x0) = p2\n",
    "    mask = np.logical_and(Z == 1, X == 0)\n",
    "    Y[mask] = (np.random.uniform(size = np.sum(mask)) < p3) * 1\n",
    "\n",
    "    #P(Y = y1 | Z = z1, X = x1) = p2\n",
    "    mask = np.logical_and(Z == 1, X == 1)\n",
    "    Y[mask] = (np.random.uniform(size = np.sum(mask)) < p4) * 1\n",
    "    \n",
    "    return (X,Y,Z)\n",
    "\n",
    "# P(Y|do(X = 1))\n",
    "(X,Y,Z) = simulate(X = np.ones(n))\n",
    "\n",
    "print(f'P(Y = 1|do(X = 1)) = {np.mean(Y)}')\n",
    "print(f'P(Y = 0|do(X = 1)) = {1 - np.mean(Y)}')\n",
    "\n",
    "# P(Y|do(X = 0))\n",
    "(X,Y,Z) = simulate(X = np.zeros(n))\n",
    "\n",
    "print(f'P(Y = 1|do(X = 0)) = {np.mean(Y)}')\n",
    "print(f'P(Y = 0|do(X = 0)) = {1 - np.mean(Y)}')"
   ]
  },
  {
   "cell_type": "markdown",
   "id": "absent-vulnerability",
   "metadata": {},
   "source": [
    "b) Calculating using the adjustment formula\n",
    "\n",
    "$$P(Y = y \\mid \\textit{do}(X = x)) = \\sum_{z}P(Y = y\\mid X = x,Z = z)P(Z = z)$$"
   ]
  },
  {
   "cell_type": "code",
   "execution_count": 5,
   "id": "fantastic-construction",
   "metadata": {},
   "outputs": [
    {
     "name": "stdout",
     "output_type": "stream",
     "text": [
      "P(Y = 1|do(X = 1)) = 0.6979000000000001\n",
      "P(Y = 0|do(X = 1)) = 0.3021\n",
      "P(Y = 1|do(X = 0)) = 0.44340000000000007\n",
      "P(Y = 0|do(X = 0)) = 0.5566\n"
     ]
    }
   ],
   "source": [
    "# P(Y = 1|do(X = 1))\n",
    "# = P(Y = 1| X = 1, Z = 0)P(Z = 0) + P(Y = 1| X = 1, Z = 1)P(Z = 1)\n",
    "print(f'P(Y = 1|do(X = 1)) = {p2*(1-r) + p4*r}')\n",
    "\n",
    "# P(Y = 0|do(X = 1))\n",
    "# = P(Y = 0| X = 1, Z = 0)P(Z = 0) + P(Y = 0| X = 1, Z = 1)P(Z = 1)\n",
    "print(f'P(Y = 0|do(X = 1)) = {(1-p2)*(1-r) + (1-p4)*r}')\n",
    "\n",
    "# P(Y = 1|do(X = 0))\n",
    "# = P(Y = 1| X = 0, Z = 0)P(Z = 0) + P(Y = 1| X = 0, Z = 1)P(Z = 1)\n",
    "print(f'P(Y = 1|do(X = 0)) = {p1*(1-r) + p3*r}')\n",
    "\n",
    "# P(Y = 0|do(X = 0))\n",
    "# = P(Y = 0| X = 0, Z = 0)P(Z = 0) + P(Y = 0| X = 0, Z = 1)P(Z = 1)\n",
    "print(f'P(Y = 0|do(X = 0)) = {(1-p1)*(1-r) + (1-p3)*r}')"
   ]
  },
  {
   "cell_type": "markdown",
   "id": "reliable-command",
   "metadata": {},
   "source": [
    "c) From above we know that\n",
    "\n",
    "$$ACE = p_{2}(1-r) + p_{4}r - p_{1}(1-r) -p_{3}r$$\n",
    "\n",
    "Now we need to calculate Risk Difference (RD)\n",
    "\n",
    "$$RD = P(Y = 1\\mid X = 1) - P(Y = 1\\mid X=0)$$\n",
    "\n",
    "Let's calculate $P(Y = 1\\mid X = 1)$ first.\n",
    "\n",
    "$$\\begin{align}\n",
    "P(Y = 1\\mid X = 1) &= P(Y=1\\mid X=1,Z=1)P(Z=1|X=1)\\\\\n",
    "&+ P(Y=1\\mid X=1,Z=0)P(Z=0|X=1)\n",
    "\\end{align}$$\n",
    "\n",
    "We know that:\n",
    "\n",
    "$$\\begin{align}\n",
    "&P(Z = 1) = r\\\\\n",
    "&P(Y = 1 \\mid Z = 0, X = 1) = p_{2}\\\\\n",
    "&P(Y = 1 \\mid Z = 1, X = 1) = p_{4}\\\\\n",
    "&P(X = 1 \\mid Z = 1) = q_{2}\\\\\n",
    "&P(X = 1 \\mid Z = 0) = q_{1}\n",
    "\\end{align}$$\n",
    "\n",
    "And\n",
    "\n",
    "$$\\begin{align}\n",
    "P(X=1) &= P(X=1\\mid Z=1)P(Z=1) + P(X=1\\mid Z=0)P(Z=0)\\\\\n",
    "&= q_{2}r + q_{1}(1-r)\n",
    "\\end{align}$$\n",
    "\n",
    "Using Bayes' theorem:\n",
    "$$\\begin{align}\n",
    "P(Z=1\\mid X=1) &= \\frac{P(X=1\\mid Z=1)P(Z=1)}{P(X=1)}\\\\\n",
    "&= \\frac{q_{2}r}{q_{2}r + q_{1}(1-r)}\\\\\n",
    "&= \\alpha\n",
    "\\end{align}$$\n",
    "\n",
    "Putting it all together\n",
    "\n",
    "$$P(Y = 1\\mid X = 1) = p_{4}\\alpha + p_{2}(1 - \\alpha)$$\n",
    "\n",
    "\n",
    "Similarly, for $P(Y = 1\\mid X = 0)$\n",
    "\n",
    "$$\\begin{align}\n",
    "P(Y = 1\\mid X = 0) &= P(Y=1\\mid X=0,Z=1)P(Z=1|X=0)\\\\\n",
    "&+ P(Y=1\\mid X=0,Z=0)P(Z=0|X=0)\n",
    "\\end{align}$$\n",
    "\n",
    "We know that\n",
    "\n",
    "$$\\begin{align}\n",
    "&P(Z = 0) = (1-r)\\\\\n",
    "&P(Y = 1 \\mid Z = 1, X = 0) = p_{3}\\\\\n",
    "&P(Y = 1 \\mid Z = 0, X = 0) = p_{1}\\\\\n",
    "&P(X = 0 \\mid Z = 1) = 1-q_{2}\\\\\n",
    "&P(X = 0 \\mid Z = 0) = 1-q_{1}\n",
    "\\end{align}$$\n",
    "\n",
    "Using Bayes' theorem:\n",
    "$$\\begin{align}\n",
    "P(Z=1\\mid X=0) &= \\frac{P(X=0\\mid Z=1)P(Z=1)}{P(X=0)}\\\\\n",
    "&= \\frac{(1-q_{2})r}{1 - q_{2}r - q_{1}(1-r)}\\\\\n",
    "&= \\beta\n",
    "\\end{align}$$\n",
    "\n",
    "Putting it all together\n",
    "\n",
    "$$P(Y = 1\\mid X = 0) = p_{3}\\beta + p_{1}(1 - \\beta)$$\n",
    "\n",
    "Therefore...\n",
    "\n",
    "$$RD = p_{4}\\alpha + p_{2}(1 - \\alpha) - p_{3}(\\beta) - p_{1}(1 - \\beta)$$"
   ]
  },
  {
   "cell_type": "code",
   "execution_count": 59,
   "id": "reported-contents",
   "metadata": {},
   "outputs": [
    {
     "name": "stdout",
     "output_type": "stream",
     "text": [
      "Simulated: P(X = 1) = 0.257277\n",
      "Calculated: P(X = 1) = 0.25670000000000004\n",
      "\n",
      "Simulated: P(Z = 1|X = 1) = 0.42891513815848287\n",
      "Calculated: P(Z = 1|X = 1) = 0.43007401636151144\n",
      "\n",
      "Simulated: P(Y = 1|X = 1) = 0.6424087656494751\n",
      "Calculated: P(Z = 1|X = 1) = 0.6438800155823919\n",
      "\n",
      "Simulated: P(Z = 1|X = 0) = 0.16139260531853733\n",
      "Calculated: P(Z = 1|X = 1) = 0.1609040764159828\n",
      "\n",
      "Simulated: P(Y = 1|X = 0) = 0.47223662118986487\n",
      "Calculated: P(Y = 1|X = 0) = 0.4724202879052873\n",
      "\n",
      "Simulated: RD = 0.17017214445961026\n",
      "Calculated: RD = 0.17145972767710466\n",
      "\n",
      "Simulated: ACE = 0.25572900000000004\n",
      "Calculated: ACE = 0.2545\n"
     ]
    }
   ],
   "source": [
    "# simulate to check answers\n",
    "X,Y,Z = simulate()\n",
    "\n",
    "print(f'Simulated: P(X = 1) = {np.mean(X)}')\n",
    "p_x_1 = q2*r + q1*(1-r)\n",
    "print(f'Calculated: P(X = 1) = {p_x_1}')\n",
    "\n",
    "print(f'\\nSimulated: P(Z = 1|X = 1) = {np.mean(Z[X == 1])}')\n",
    "p_z_1_x_1 = q2*r / p_x_1\n",
    "print(f'Calculated: P(Z = 1|X = 1) = {p_z_1_x_1}')\n",
    "\n",
    "print(f'\\nSimulated: P(Y = 1|X = 1) = {np.mean(Y[X == 1])}')\n",
    "p_y_1_x_1 = p4*p_z_1_x_1 + p2*(1-p_z_1_x_1)\n",
    "print(f'Calculated: P(Z = 1|X = 1) = {p_y_1_x_1}')\n",
    "\n",
    "print(f'\\nSimulated: P(Z = 1|X = 0) = {np.mean(Z[X == 0])}')\n",
    "p_z_1_x_0 = (1-q2)*r / (1-p_x_1)\n",
    "print(f'Calculated: P(Z = 1|X = 1) = {p_z_1_x_0}')\n",
    "\n",
    "print(f'\\nSimulated: P(Y = 1|X = 0) = {np.mean(Y[X == 0])}')\n",
    "p_y_1_x_0 = p3*p_z_1_x_0 + p1*(1-p_z_1_x_0)\n",
    "print(f'Calculated: P(Y = 1|X = 0) = {p_y_1_x_0}')\n",
    "\n",
    "print(f'\\nSimulated: RD = {np.mean(Y[X == 1]) - np.mean(Y[X == 0])}')\n",
    "print(f'Calculated: RD = {p_y_1_x_1 - p_y_1_x_0}')\n",
    "\n",
    "(_,Y_do_x_1,_) = simulate(X = np.ones(n))\n",
    "(_,Y_do_x_0,_) = simulate(X = np.zeros(n))\n",
    "print(f'\\nSimulated: ACE = {np.mean(Y_do_x_1) - np.mean(Y_do_x_0)}')\n",
    "print(f'Calculated: ACE = {p2*(1-r) + p4*r - p1*(1-r) - p3*r}')"
   ]
  },
  {
   "cell_type": "markdown",
   "id": "latin-doctor",
   "metadata": {},
   "source": [
    "What parameters would minimise the difference between ACE and RD?\n",
    "\n",
    "$$\\begin{align}\n",
    "ACE - RD &= p_{4}r + p_{2}(1-r) - p_{3}r - p_{1}(1-r) - p_{4}\\alpha - p_{2}(1-\\alpha) + p_{3}\\beta + p_{1}(1-\\beta)\\\\\n",
    "&= p_{4}(r - \\alpha) + p_{2}(\\alpha - r) + p_{1}(r - \\beta) - p_{3}(r - \\beta)\n",
    "\\end{align}$$\n",
    "\n",
    "This is minimised when $\\alpha = \\beta = r$. Solving for $\\alpha = r$ and $\\beta = r$ gives us $q_{1} = q_{2}$"
   ]
  },
  {
   "cell_type": "markdown",
   "id": "regional-mexico",
   "metadata": {},
   "source": [
    "d) The $ACE$ is positive, so we can search for values of $q_{1}$ and $q_{2}$ that will give us a negative $RD$ given our values for $p_{1}, p_{2}, p_{3}, p_{4}, r$. A simple grid search should do the trick."
   ]
  },
  {
   "cell_type": "code",
   "execution_count": 58,
   "id": "selective-luxury",
   "metadata": {},
   "outputs": [
    {
     "data": {
      "text/plain": [
       "Text(0, 0.5, 'q2')"
      ]
     },
     "execution_count": 58,
     "metadata": {},
     "output_type": "execute_result"
    },
    {
     "data": {
      "image/png": "[encoded data removed]",
      "text/plain": [
       "<Figure size 432x288 with 1 Axes>"
      ]
     },
     "metadata": {
      "needs_background": "light"
     },
     "output_type": "display_data"
    }
   ],
   "source": [
    "import matplotlib.pyplot as plt\n",
    "\n",
    "granularity = 2000\n",
    "\n",
    "# create a grid of candidate q values\n",
    "q = np.column_stack(\n",
    "    (np.tile(np.linspace(0.001,0.999,granularity), granularity),\n",
    "    np.repeat(np.linspace(0.001,0.999,granularity), granularity))\n",
    ")\n",
    "\n",
    "alpha = q[:,1]*r / (q[:,1]*r + q[:,0]*(1-r))\n",
    "beta = (1 - q[:,1])*r / (1 - q[:,1]*r - q[:,0]*(1-r))\n",
    "\n",
    "rd = p4*alpha + p2*(1-alpha) - p3*beta - p1*(1-beta)\n",
    "\n",
    "reversal_qs = q[rd < 0, :]\n",
    "\n",
    "# plot the q1, q2 values that generate a negative RD\n",
    "plt.scatter(reversal_qs[:,0], reversal_qs[:,1], s = 0.5)\n",
    "plt.xlabel('q1')\n",
    "plt.ylabel('q2')"
   ]
  }
 ],
 "metadata": {
  "kernelspec": {
   "display_name": "Python 3",
   "language": "python",
   "name": "python3"
  },
  "language_info": {
   "codemirror_mode": {
    "name": "ipython",
    "version": 3
   },
   "file_extension": ".py",
   "mimetype": "text/x-python",
   "name": "python",
   "nbconvert_exporter": "python",
   "pygments_lexer": "ipython3",
   "version": "3.8.5"
  }
 },
 "nbformat": 4,
 "nbformat_minor": 5
}
