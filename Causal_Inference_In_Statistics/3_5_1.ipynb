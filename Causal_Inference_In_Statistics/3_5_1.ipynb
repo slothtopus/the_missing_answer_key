{
 "cells": [
  {
   "cell_type": "markdown",
   "id": "seeing-frontier",
   "metadata": {},
   "source": [
    "# Study Question 3.5.1\n",
    "\n",
    "a) For the c-specific effect of $X$ on $Y$, we can use the adjustment set $S = \\{Z\\}$, which gives us\n",
    "\n",
    "$$P(Y=y \\mid \\textit{do}(X=x), C=c) = \\sum_{z} P(Y=y \\mid X=x,C=c,Z=z)P(Z=z\\mid C=c)$$\n",
    "\n",
    "b) For the z-specific effect of $X$ on $Y$, we can use the adjustment set $S = \\{C\\}$, which gives us\n",
    "\n",
    "$$P(Y=y \\mid \\textit{do}(X=x), Z=z) = \\sum_{c} P(Y=y \\mid X=x,Z=z,C=c)P(C=c \\mid Z=z)$$\n",
    "\n",
    "c) We have\n",
    "\n",
    "$$g(z) = \\begin{cases}\n",
    "0 &\\text{if } z \\le 2\\\\\n",
    "1 &\\text{if } z \\gt 2\n",
    "\\end{cases}\n",
    "$$\n",
    "\n",
    "$$P(Y=y \\mid \\textit{do}(X = g(Z))) = \\sum_{Z} P(Y=y \\mid \\textit{do}(X=x), Z=z)P(Z=z)$$\n",
    "$$E(Y) = \\sum_{Y}yP(Y=y \\mid \\textit{do}(X = g(Z)))$$\n",
    "\n",
    "Putting this all together gives us\n",
    "\n",
    "$$E(Y) = \\sum_{Y}y\\sum_{Z} \\sum_{C} P(Y=y \\mid X=x,Z=z,C=c)P(C=c \\mid Z=z)P(Z=z)$$"
   ]
  },
  {
   "cell_type": "code",
   "execution_count": null,
   "id": "stuffed-ribbon",
   "metadata": {},
   "outputs": [],
   "source": []
  }
 ],
 "metadata": {
  "kernelspec": {
   "display_name": "Python 3",
   "language": "python",
   "name": "python3"
  },
  "language_info": {
   "codemirror_mode": {
    "name": "ipython",
    "version": 3
   },
   "file_extension": ".py",
   "mimetype": "text/x-python",
   "name": "python",
   "nbconvert_exporter": "python",
   "pygments_lexer": "ipython3",
   "version": "3.8.5"
  }
 },
 "nbformat": 4,
 "nbformat_minor": 5
}
