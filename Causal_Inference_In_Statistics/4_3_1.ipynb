{
 "cells": [
  {
   "cell_type": "markdown",
   "id": "indian-correlation",
   "metadata": {},
   "source": [
    "# Study Question 4.3.1\n",
    "\n",
    "a) According to Theorem 4.3.2\n",
    "\n",
    "$$E[Y_{X=x} \\mid Z=z] = E[Y \\mid Z=z] + \\tau(x - E[X \\mid Z=z])$$\n",
    "\n",
    "We need to calculate $E[Y \\mid Z=z]$, $\\tau$ and $E[X \\mid Z=z]$.\n",
    "\n",
    "First up, from the structural model we know that $\\tau = ab$ since this is the total effect on $X$ on $Y$.\n",
    "\n",
    "Similarly, from the structural model $E[Y \\mid Z=z] = bz$.\n",
    "\n",
    "From the question we know that $E[X \\mid Z=z] = E[X] + R_{XZ}(z - E[Z])$.\n",
    "\n",
    "$E(X) = E(Z) = 0$, since these are linear combinations of random normal variables of mean 0.\n",
    "\n",
    "Using the fact that $E[U_{1}U_{2}] = 0$ since $U_{1}$ and $U_{2}$ are independent and $E[U_{1}^2] = E[U_{2}^2] = 1$ since they are both $\\mathcal{N}(0,1)$\n",
    "\n",
    "$$\\begin{align}\n",
    "\\sigma_{XZ} &= E[(X-E[X])(Z-E[Z])]\\\\\n",
    "&= E[XZ]\\\\\n",
    "&= E[X(aX + U_{2})]\\\\\n",
    "&= E[aU_{1}^2 + U_{1}U_{2}]\\\\\n",
    "&= aE[U_{1}^2] + E[U_{1}U_{2}]\\\\\n",
    "&= a\n",
    "\\end{align}$$\n",
    "\n",
    "$$\\begin{align}\n",
    "\\sigma^2_{Z} &= E[Z^2] - E[Z]^2\\\\\n",
    "&= E[Z^2]\\\\\n",
    "&= E[(aU_{1} + U_{2})^2]\\\\\n",
    "&= E[a^2U_{1}^2 + 2aU_{1}U_{2} + U_{2}^2]\\\\\n",
    "&= a^2E[U_{1}^2] + 2aE[U_{1}U_{2}] + E[U_{2}^2]\\\\\n",
    "&= a^2 + 1\n",
    "\\end{align}$$\n",
    "\n",
    "$$\\implies R_{XZ} = \\frac{\\sigma_{XZ}}{\\sigma^2_{Z}} = \\frac{a}{a^2 + 1}$$\n",
    "\n",
    "$$\\implies E(X \\mid Z=z) = \\frac{a}{a^2 + 1}z$$\n",
    "\n",
    "Putting everything together with Theorem 4.3.2\n",
    "\n",
    "$$\\begin{align}\n",
    "E[Y_{X=x} \\mid Z=z] &= E[Y \\mid Z=z] + \\tau(x - E[X \\mid Z=z])\\\\\n",
    "&= bz + ab(x - \\frac{a}{a^2 + 1}z)\\\\\n",
    "&= abx + bz(1 - \\frac{a}{a^2 + 1})\\\\\n",
    "&= abx + \\frac{bz}{a^2 + 1}\n",
    "\\end{align}$$\n",
    "\n",
    "b) The skill-specific effect of education on salary can be calculated as $E[Y_{X=1} \\mid Z = z] - E[Y_{X=0} \\mid Z = z]$\n",
    "\n",
    "$$\\begin{align}\n",
    "E[Y_{X=1} \\mid Z = z] - E[Y_{X=0} \\mid Z = z] &= ab + \\frac{bz}{1+a^2} - \\frac{bz}{1+a^2}\\\\\n",
    "&= ab\n",
    "\\end{align}$$\n",
    "\n",
    "Since this does not depend on $z$ we can say that the effect is independent of the skill level."
   ]
  },
  {
   "cell_type": "code",
   "execution_count": null,
   "id": "false-mattress",
   "metadata": {},
   "outputs": [],
   "source": []
  }
 ],
 "metadata": {
  "kernelspec": {
   "display_name": "Python 3",
   "language": "python",
   "name": "python3"
  },
  "language_info": {
   "codemirror_mode": {
    "name": "ipython",
    "version": 3
   },
   "file_extension": ".py",
   "mimetype": "text/x-python",
   "name": "python",
   "nbconvert_exporter": "python",
   "pygments_lexer": "ipython3",
   "version": "3.8.5"
  }
 },
 "nbformat": 4,
 "nbformat_minor": 5
}
